{
 "cells": [
  {
   "cell_type": "markdown",
   "metadata": {},
   "source": [
    "6-1. 프로젝트 (1) load_digits : 손글씨를 분류해 봅시다"
   ]
  },
  {
   "cell_type": "markdown",
   "metadata": {},
   "source": [
    "(1) 필요한 모듈 import 하기"
   ]
  },
  {
   "cell_type": "code",
   "execution_count": 10,
   "metadata": {},
   "outputs": [
    {
     "name": "stdout",
     "output_type": "stream",
     "text": [
      "1.5.1\n"
     ]
    }
   ],
   "source": [
    "import sklearn\n",
    "\n",
    "print(sklearn.__version__)"
   ]
  },
  {
   "cell_type": "code",
   "execution_count": 1,
   "metadata": {},
   "outputs": [],
   "source": [
    "from sklearn.datasets import load_digits\n",
    "from sklearn.model_selection import train_test_split\n",
    "from sklearn.metrics import classification_report"
   ]
  },
  {
   "cell_type": "markdown",
   "metadata": {},
   "source": [
    "(2) 데이터 준비"
   ]
  },
  {
   "cell_type": "code",
   "execution_count": 2,
   "metadata": {},
   "outputs": [],
   "source": [
    "dg = load_digits()"
   ]
  },
  {
   "cell_type": "markdown",
   "metadata": {},
   "source": [
    "(3) 데이터 이해하기"
   ]
  },
  {
   "cell_type": "code",
   "execution_count": 3,
   "metadata": {},
   "outputs": [
    {
     "name": "stdout",
     "output_type": "stream",
     "text": [
      "[0 1 2 3 4 5 6 7 8 9]\n"
     ]
    }
   ],
   "source": [
    "dg_data = dg.data # Feature Data 지정하기\n",
    "dg_label = dg.target # Label Data 지정하기\n",
    "\n",
    "print(dg.target_names) # Target Names 출력해보기"
   ]
  },
  {
   "cell_type": "code",
   "execution_count": 4,
   "metadata": {},
   "outputs": [
    {
     "name": "stdout",
     "output_type": "stream",
     "text": [
      ".. _digits_dataset:\n",
      "\n",
      "Optical recognition of handwritten digits dataset\n",
      "--------------------------------------------------\n",
      "\n",
      "**Data Set Characteristics:**\n",
      "\n",
      ":Number of Instances: 1797\n",
      ":Number of Attributes: 64\n",
      ":Attribute Information: 8x8 image of integer pixels in the range 0..16.\n",
      ":Missing Attribute Values: None\n",
      ":Creator: E. Alpaydin (alpaydin '@' boun.edu.tr)\n",
      ":Date: July; 1998\n",
      "\n",
      "This is a copy of the test set of the UCI ML hand-written digits datasets\n",
      "https://archive.ics.uci.edu/ml/datasets/Optical+Recognition+of+Handwritten+Digits\n",
      "\n",
      "The data set contains images of hand-written digits: 10 classes where\n",
      "each class refers to a digit.\n",
      "\n",
      "Preprocessing programs made available by NIST were used to extract\n",
      "normalized bitmaps of handwritten digits from a preprinted form. From a\n",
      "total of 43 people, 30 contributed to the training set and different 13\n",
      "to the test set. 32x32 bitmaps are divided into nonoverlapping blocks of\n",
      "4x4 and the number of on pixels are counted in each block. This generates\n",
      "an input matrix of 8x8 where each element is an integer in the range\n",
      "0..16. This reduces dimensionality and gives invariance to small\n",
      "distortions.\n",
      "\n",
      "For info on NIST preprocessing routines, see M. D. Garris, J. L. Blue, G.\n",
      "T. Candela, D. L. Dimmick, J. Geist, P. J. Grother, S. A. Janet, and C.\n",
      "L. Wilson, NIST Form-Based Handprint Recognition System, NISTIR 5469,\n",
      "1994.\n",
      "\n",
      ".. dropdown:: References\n",
      "\n",
      "  - C. Kaynak (1995) Methods of Combining Multiple Classifiers and Their\n",
      "    Applications to Handwritten Digit Recognition, MSc Thesis, Institute of\n",
      "    Graduate Studies in Science and Engineering, Bogazici University.\n",
      "  - E. Alpaydin, C. Kaynak (1998) Cascading Classifiers, Kybernetika.\n",
      "  - Ken Tang and Ponnuthurai N. Suganthan and Xi Yao and A. Kai Qin.\n",
      "    Linear dimensionalityreduction using relevance weighted LDA. School of\n",
      "    Electrical and Electronic Engineering Nanyang Technological University.\n",
      "    2005.\n",
      "  - Claudio Gentile. A New Approximate Maximal Margin Classification\n",
      "    Algorithm. NIPS. 2000.\n",
      "\n"
     ]
    }
   ],
   "source": [
    "print(dg.DESCR) # 데이터 Describe 해 보기"
   ]
  },
  {
   "cell_type": "markdown",
   "metadata": {},
   "source": [
    "(4) train, test 데이터 분리 모델 학습과 테스트용 문제지와 정답지를 준비해 봅시다."
   ]
  },
  {
   "cell_type": "code",
   "execution_count": 5,
   "metadata": {},
   "outputs": [],
   "source": [
    "X_train, X_test, y_train, y_test = train_test_split(dg_data,\n",
    "                                                    dg_label,\n",
    "                                                    test_size=0.2,\n",
    "                                                    random_state=0)"
   ]
  },
  {
   "cell_type": "markdown",
   "metadata": {},
   "source": [
    "(5) 다양한 모델로 학습시켜보기"
   ]
  },
  {
   "cell_type": "code",
   "execution_count": 6,
   "metadata": {},
   "outputs": [],
   "source": [
    "from sklearn.tree import DecisionTreeClassifier\n",
    "from sklearn.ensemble import RandomForestClassifier\n",
    "from sklearn import svm\n",
    "from sklearn.linear_model import SGDClassifier\n",
    "from sklearn.linear_model import LogisticRegression"
   ]
  },
  {
   "cell_type": "code",
   "execution_count": 7,
   "metadata": {},
   "outputs": [
    {
     "name": "stdout",
     "output_type": "stream",
     "text": [
      "              precision    recall  f1-score   support\n",
      "\n",
      "           0       0.86      0.89      0.87        27\n",
      "           1       0.84      0.89      0.86        35\n",
      "           2       0.78      0.81      0.79        36\n",
      "           3       0.69      0.93      0.79        29\n",
      "           4       0.93      0.87      0.90        30\n",
      "           5       0.92      0.85      0.88        40\n",
      "           6       0.87      0.89      0.88        44\n",
      "           7       0.90      0.95      0.93        39\n",
      "           8       0.89      0.62      0.73        39\n",
      "           9       0.83      0.83      0.83        41\n",
      "\n",
      "    accuracy                           0.85       360\n",
      "   macro avg       0.85      0.85      0.85       360\n",
      "weighted avg       0.85      0.85      0.85       360\n",
      "\n"
     ]
    }
   ],
   "source": [
    "# Decision Tree 사용해보기\n",
    "dg_dt = DecisionTreeClassifier(random_state=0)\n",
    "dg_dt.fit(X_train, y_train)\n",
    "y_pred = dg_dt.predict(X_test)\n",
    "print(classification_report(y_test, y_pred))"
   ]
  },
  {
   "cell_type": "code",
   "execution_count": 8,
   "metadata": {},
   "outputs": [
    {
     "name": "stdout",
     "output_type": "stream",
     "text": [
      "              precision    recall  f1-score   support\n",
      "\n",
      "           0       0.96      1.00      0.98        27\n",
      "           1       0.94      0.97      0.96        35\n",
      "           2       1.00      0.94      0.97        36\n",
      "           3       0.94      1.00      0.97        29\n",
      "           4       1.00      0.97      0.98        30\n",
      "           5       0.93      0.95      0.94        40\n",
      "           6       1.00      1.00      1.00        44\n",
      "           7       0.97      1.00      0.99        39\n",
      "           8       1.00      0.97      0.99        39\n",
      "           9       0.95      0.90      0.93        41\n",
      "\n",
      "    accuracy                           0.97       360\n",
      "   macro avg       0.97      0.97      0.97       360\n",
      "weighted avg       0.97      0.97      0.97       360\n",
      "\n"
     ]
    }
   ],
   "source": [
    "# Random Forest 사용해 보기\n",
    "dg_rf = RandomForestClassifier(random_state=0)\n",
    "dg_rf.fit(X_train, y_train)\n",
    "y_pred = dg_rf.predict(X_test)\n",
    "print(classification_report(y_test, y_pred))"
   ]
  },
  {
   "cell_type": "code",
   "execution_count": 12,
   "metadata": {},
   "outputs": [
    {
     "name": "stdout",
     "output_type": "stream",
     "text": [
      "              precision    recall  f1-score   support\n",
      "\n",
      "           0       1.00      1.00      1.00        27\n",
      "           1       0.97      1.00      0.99        35\n",
      "           2       1.00      1.00      1.00        36\n",
      "           3       1.00      1.00      1.00        29\n",
      "           4       1.00      1.00      1.00        30\n",
      "           5       0.97      0.97      0.97        40\n",
      "           6       1.00      1.00      1.00        44\n",
      "           7       1.00      1.00      1.00        39\n",
      "           8       1.00      0.97      0.99        39\n",
      "           9       0.98      0.98      0.98        41\n",
      "\n",
      "    accuracy                           0.99       360\n",
      "   macro avg       0.99      0.99      0.99       360\n",
      "weighted avg       0.99      0.99      0.99       360\n",
      "\n"
     ]
    }
   ],
   "source": [
    "# SVM 사용해 보기\n",
    "dg_svm = svm.SVC(random_state=0)\n",
    "dg_svm.fit(X_train, y_train)\n",
    "y_pred = dg_svm.predict(X_test)\n",
    "print(classification_report(y_test, y_pred))"
   ]
  },
  {
   "cell_type": "code",
   "execution_count": 13,
   "metadata": {},
   "outputs": [
    {
     "name": "stdout",
     "output_type": "stream",
     "text": [
      "              precision    recall  f1-score   support\n",
      "\n",
      "           0       1.00      1.00      1.00        27\n",
      "           1       0.86      0.91      0.89        35\n",
      "           2       1.00      0.94      0.97        36\n",
      "           3       0.97      0.97      0.97        29\n",
      "           4       0.97      0.97      0.97        30\n",
      "           5       0.97      0.93      0.95        40\n",
      "           6       0.98      0.98      0.98        44\n",
      "           7       0.97      0.95      0.96        39\n",
      "           8       0.78      0.97      0.86        39\n",
      "           9       0.97      0.80      0.88        41\n",
      "\n",
      "    accuracy                           0.94       360\n",
      "   macro avg       0.95      0.94      0.94       360\n",
      "weighted avg       0.95      0.94      0.94       360\n",
      "\n"
     ]
    }
   ],
   "source": [
    "# SGD Classifier 사용해 보기\n",
    "dg_sgd = SGDClassifier(random_state=0)\n",
    "dg_sgd.fit(X_train, y_train)\n",
    "y_pred = dg_sgd.predict(X_test)\n",
    "print(classification_report(y_test, y_pred))"
   ]
  },
  {
   "cell_type": "code",
   "execution_count": 14,
   "metadata": {},
   "outputs": [
    {
     "name": "stdout",
     "output_type": "stream",
     "text": [
      "              precision    recall  f1-score   support\n",
      "\n",
      "           0       1.00      1.00      1.00        27\n",
      "           1       0.92      0.97      0.94        35\n",
      "           2       0.97      0.97      0.97        36\n",
      "           3       0.97      1.00      0.98        29\n",
      "           4       0.97      0.97      0.97        30\n",
      "           5       0.97      0.93      0.95        40\n",
      "           6       1.00      0.98      0.99        44\n",
      "           7       0.97      0.97      0.97        39\n",
      "           8       0.97      0.92      0.95        39\n",
      "           9       0.93      0.98      0.95        41\n",
      "\n",
      "    accuracy                           0.97       360\n",
      "   macro avg       0.97      0.97      0.97       360\n",
      "weighted avg       0.97      0.97      0.97       360\n",
      "\n"
     ]
    },
    {
     "name": "stderr",
     "output_type": "stream",
     "text": [
      "c:\\Users\\user\\miniconda3\\envs\\aifenv\\Lib\\site-packages\\sklearn\\linear_model\\_logistic.py:469: ConvergenceWarning: lbfgs failed to converge (status=1):\n",
      "STOP: TOTAL NO. of ITERATIONS REACHED LIMIT.\n",
      "\n",
      "Increase the number of iterations (max_iter) or scale the data as shown in:\n",
      "    https://scikit-learn.org/stable/modules/preprocessing.html\n",
      "Please also refer to the documentation for alternative solver options:\n",
      "    https://scikit-learn.org/stable/modules/linear_model.html#logistic-regression\n",
      "  n_iter_i = _check_optimize_result(\n"
     ]
    }
   ],
   "source": [
    "# Logistic Regression 사용해 보기\n",
    "dg_lr = LogisticRegression(random_state=0)\n",
    "dg_lr.fit(X_train, y_train)\n",
    "y_pred = dg_lr.predict(X_test)\n",
    "print(classification_report(y_test, y_pred))"
   ]
  },
  {
   "cell_type": "markdown",
   "metadata": {},
   "source": [
    "(6) 모델을 평가해 보기"
   ]
  },
  {
   "cell_type": "code",
   "execution_count": 15,
   "metadata": {},
   "outputs": [
    {
     "name": "stdout",
     "output_type": "stream",
     "text": [
      "[[27  0  0  0  0  0  0  0  0  0]\n",
      " [ 0 34  0  0  0  0  0  0  1  0]\n",
      " [ 0  0 35  1  0  0  0  0  0  0]\n",
      " [ 0  0  0 29  0  0  0  0  0  0]\n",
      " [ 0  0  0  0 29  0  0  1  0  0]\n",
      " [ 0  0  0  0  0 37  0  0  0  3]\n",
      " [ 0  1  0  0  0  0 43  0  0  0]\n",
      " [ 0  0  0  0  1  0  0 38  0  0]\n",
      " [ 0  2  1  0  0  0  0  0 36  0]\n",
      " [ 0  0  0  0  0  1  0  0  0 40]]\n"
     ]
    }
   ],
   "source": [
    "from sklearn.metrics import confusion_matrix\n",
    "\n",
    "print(confusion_matrix(y_test, y_pred))"
   ]
  },
  {
   "cell_type": "markdown",
   "metadata": {},
   "source": [
    "어떤 숫자의 글씨가 잘못 분류되었는지 한 눈에 확인할 수 있기에 혼동행렬로 평가지표로 활용하였습니다. Logistic Regression 모델을 통해 혼동행렬을 보았을 때 8을 예측했을 때 가장 잘못 분류됨을 알 수 있습니다."
   ]
  },
  {
   "cell_type": "markdown",
   "metadata": {},
   "source": [
    "6-2. 프로젝트 (2) load_wine : 와인을 분류해 봅시다"
   ]
  },
  {
   "cell_type": "markdown",
   "metadata": {},
   "source": [
    "(1) 필요한 모듈 import 하기"
   ]
  },
  {
   "cell_type": "code",
   "execution_count": 16,
   "metadata": {},
   "outputs": [],
   "source": [
    "from sklearn.datasets import load_wine"
   ]
  },
  {
   "cell_type": "markdown",
   "metadata": {},
   "source": [
    "(2) 데이터 준비"
   ]
  },
  {
   "cell_type": "code",
   "execution_count": 17,
   "metadata": {},
   "outputs": [],
   "source": [
    "wine = load_wine()"
   ]
  },
  {
   "cell_type": "markdown",
   "metadata": {},
   "source": [
    "(3) 데이터 이해하기"
   ]
  },
  {
   "cell_type": "code",
   "execution_count": 18,
   "metadata": {},
   "outputs": [
    {
     "name": "stdout",
     "output_type": "stream",
     "text": [
      "['class_0' 'class_1' 'class_2']\n"
     ]
    }
   ],
   "source": [
    "wine_data = wine.data # Feature Data 지정하기\n",
    "wine_label = wine.target # Label Data 지정하기\n",
    "\n",
    "print(wine.target_names) # Target Names 출력해보기"
   ]
  },
  {
   "cell_type": "code",
   "execution_count": 19,
   "metadata": {},
   "outputs": [
    {
     "name": "stdout",
     "output_type": "stream",
     "text": [
      ".. _wine_dataset:\n",
      "\n",
      "Wine recognition dataset\n",
      "------------------------\n",
      "\n",
      "**Data Set Characteristics:**\n",
      "\n",
      ":Number of Instances: 178\n",
      ":Number of Attributes: 13 numeric, predictive attributes and the class\n",
      ":Attribute Information:\n",
      "    - Alcohol\n",
      "    - Malic acid\n",
      "    - Ash\n",
      "    - Alcalinity of ash\n",
      "    - Magnesium\n",
      "    - Total phenols\n",
      "    - Flavanoids\n",
      "    - Nonflavanoid phenols\n",
      "    - Proanthocyanins\n",
      "    - Color intensity\n",
      "    - Hue\n",
      "    - OD280/OD315 of diluted wines\n",
      "    - Proline\n",
      "    - class:\n",
      "        - class_0\n",
      "        - class_1\n",
      "        - class_2\n",
      "\n",
      ":Summary Statistics:\n",
      "\n",
      "============================= ==== ===== ======= =====\n",
      "                                Min   Max   Mean     SD\n",
      "============================= ==== ===== ======= =====\n",
      "Alcohol:                      11.0  14.8    13.0   0.8\n",
      "Malic Acid:                   0.74  5.80    2.34  1.12\n",
      "Ash:                          1.36  3.23    2.36  0.27\n",
      "Alcalinity of Ash:            10.6  30.0    19.5   3.3\n",
      "Magnesium:                    70.0 162.0    99.7  14.3\n",
      "Total Phenols:                0.98  3.88    2.29  0.63\n",
      "Flavanoids:                   0.34  5.08    2.03  1.00\n",
      "Nonflavanoid Phenols:         0.13  0.66    0.36  0.12\n",
      "Proanthocyanins:              0.41  3.58    1.59  0.57\n",
      "Colour Intensity:              1.3  13.0     5.1   2.3\n",
      "Hue:                          0.48  1.71    0.96  0.23\n",
      "OD280/OD315 of diluted wines: 1.27  4.00    2.61  0.71\n",
      "Proline:                       278  1680     746   315\n",
      "============================= ==== ===== ======= =====\n",
      "\n",
      ":Missing Attribute Values: None\n",
      ":Class Distribution: class_0 (59), class_1 (71), class_2 (48)\n",
      ":Creator: R.A. Fisher\n",
      ":Donor: Michael Marshall (MARSHALL%PLU@io.arc.nasa.gov)\n",
      ":Date: July, 1988\n",
      "\n",
      "This is a copy of UCI ML Wine recognition datasets.\n",
      "https://archive.ics.uci.edu/ml/machine-learning-databases/wine/wine.data\n",
      "\n",
      "The data is the results of a chemical analysis of wines grown in the same\n",
      "region in Italy by three different cultivators. There are thirteen different\n",
      "measurements taken for different constituents found in the three types of\n",
      "wine.\n",
      "\n",
      "Original Owners:\n",
      "\n",
      "Forina, M. et al, PARVUS -\n",
      "An Extendible Package for Data Exploration, Classification and Correlation.\n",
      "Institute of Pharmaceutical and Food Analysis and Technologies,\n",
      "Via Brigata Salerno, 16147 Genoa, Italy.\n",
      "\n",
      "Citation:\n",
      "\n",
      "Lichman, M. (2013). UCI Machine Learning Repository\n",
      "[https://archive.ics.uci.edu/ml]. Irvine, CA: University of California,\n",
      "School of Information and Computer Science.\n",
      "\n",
      ".. dropdown:: References\n",
      "\n",
      "    (1) S. Aeberhard, D. Coomans and O. de Vel,\n",
      "    Comparison of Classifiers in High Dimensional Settings,\n",
      "    Tech. Rep. no. 92-02, (1992), Dept. of Computer Science and Dept. of\n",
      "    Mathematics and Statistics, James Cook University of North Queensland.\n",
      "    (Also submitted to Technometrics).\n",
      "\n",
      "    The data was used with many others for comparing various\n",
      "    classifiers. The classes are separable, though only RDA\n",
      "    has achieved 100% correct classification.\n",
      "    (RDA : 100%, QDA 99.4%, LDA 98.9%, 1NN 96.1% (z-transformed data))\n",
      "    (All results using the leave-one-out technique)\n",
      "\n",
      "    (2) S. Aeberhard, D. Coomans and O. de Vel,\n",
      "    \"THE CLASSIFICATION PERFORMANCE OF RDA\"\n",
      "    Tech. Rep. no. 92-01, (1992), Dept. of Computer Science and Dept. of\n",
      "    Mathematics and Statistics, James Cook University of North Queensland.\n",
      "    (Also submitted to Journal of Chemometrics).\n",
      "\n"
     ]
    }
   ],
   "source": [
    "print(wine.DESCR) # Describe 해 보기"
   ]
  },
  {
   "cell_type": "markdown",
   "metadata": {},
   "source": [
    "(4) train, test 데이터 분리"
   ]
  },
  {
   "cell_type": "code",
   "execution_count": 20,
   "metadata": {},
   "outputs": [],
   "source": [
    "X_train, X_test, y_train, y_test = train_test_split(wine_data,\n",
    "                                                    wine_label,\n",
    "                                                    test_size=0.2,\n",
    "                                                    random_state=2)"
   ]
  },
  {
   "cell_type": "markdown",
   "metadata": {},
   "source": [
    "(5) 다양한 모델로 학습시켜보기"
   ]
  },
  {
   "cell_type": "code",
   "execution_count": 21,
   "metadata": {},
   "outputs": [
    {
     "name": "stdout",
     "output_type": "stream",
     "text": [
      "              precision    recall  f1-score   support\n",
      "\n",
      "           0       1.00      0.89      0.94        18\n",
      "           1       0.82      1.00      0.90         9\n",
      "           2       1.00      1.00      1.00         9\n",
      "\n",
      "    accuracy                           0.94        36\n",
      "   macro avg       0.94      0.96      0.95        36\n",
      "weighted avg       0.95      0.94      0.95        36\n",
      "\n"
     ]
    }
   ],
   "source": [
    "# Decision Tree 사용해 보기기\n",
    "wine_dt = DecisionTreeClassifier(random_state=2)\n",
    "wine_dt.fit(X_train, y_train)\n",
    "y_pred = wine_dt.predict(X_test)\n",
    "print(classification_report(y_test, y_pred))"
   ]
  },
  {
   "cell_type": "code",
   "execution_count": 22,
   "metadata": {},
   "outputs": [
    {
     "name": "stdout",
     "output_type": "stream",
     "text": [
      "              precision    recall  f1-score   support\n",
      "\n",
      "           0       1.00      1.00      1.00        18\n",
      "           1       1.00      1.00      1.00         9\n",
      "           2       1.00      1.00      1.00         9\n",
      "\n",
      "    accuracy                           1.00        36\n",
      "   macro avg       1.00      1.00      1.00        36\n",
      "weighted avg       1.00      1.00      1.00        36\n",
      "\n"
     ]
    }
   ],
   "source": [
    "# Random Forest 사용해 보기\n",
    "wine_rf = RandomForestClassifier(random_state=2)\n",
    "wine_rf.fit(X_train, y_train)\n",
    "y_pred = wine_rf.predict(X_test)\n",
    "print(classification_report(y_test, y_pred))"
   ]
  },
  {
   "cell_type": "code",
   "execution_count": 23,
   "metadata": {},
   "outputs": [
    {
     "name": "stdout",
     "output_type": "stream",
     "text": [
      "              precision    recall  f1-score   support\n",
      "\n",
      "           0       0.94      0.89      0.91        18\n",
      "           1       0.53      1.00      0.69         9\n",
      "           2       0.00      0.00      0.00         9\n",
      "\n",
      "    accuracy                           0.69        36\n",
      "   macro avg       0.49      0.63      0.54        36\n",
      "weighted avg       0.60      0.69      0.63        36\n",
      "\n"
     ]
    }
   ],
   "source": [
    "# SVM 사용해 보기\n",
    "wine_svm = svm.SVC(random_state=2)\n",
    "wine_svm.fit(X_train, y_train)\n",
    "y_pred = wine_svm.predict(X_test)\n",
    "print(classification_report(y_test, y_pred))"
   ]
  },
  {
   "cell_type": "code",
   "execution_count": 24,
   "metadata": {},
   "outputs": [
    {
     "name": "stdout",
     "output_type": "stream",
     "text": [
      "              precision    recall  f1-score   support\n",
      "\n",
      "           0       1.00      0.83      0.91        18\n",
      "           1       0.62      0.89      0.73         9\n",
      "           2       0.50      0.44      0.47         9\n",
      "\n",
      "    accuracy                           0.75        36\n",
      "   macro avg       0.71      0.72      0.70        36\n",
      "weighted avg       0.78      0.75      0.75        36\n",
      "\n"
     ]
    }
   ],
   "source": [
    "# SGD Classifier 사용해 보기\n",
    "wine_sgd = SGDClassifier(random_state=2)\n",
    "wine_sgd.fit(X_train, y_train)\n",
    "y_pred = wine_sgd.predict(X_test)\n",
    "print(classification_report(y_test, y_pred))"
   ]
  },
  {
   "cell_type": "code",
   "execution_count": 25,
   "metadata": {},
   "outputs": [
    {
     "name": "stdout",
     "output_type": "stream",
     "text": [
      "              precision    recall  f1-score   support\n",
      "\n",
      "           0       1.00      0.89      0.94        18\n",
      "           1       0.75      1.00      0.86         9\n",
      "           2       1.00      0.89      0.94         9\n",
      "\n",
      "    accuracy                           0.92        36\n",
      "   macro avg       0.92      0.93      0.91        36\n",
      "weighted avg       0.94      0.92      0.92        36\n",
      "\n"
     ]
    },
    {
     "name": "stderr",
     "output_type": "stream",
     "text": [
      "c:\\Users\\user\\miniconda3\\envs\\aifenv\\Lib\\site-packages\\sklearn\\linear_model\\_logistic.py:469: ConvergenceWarning: lbfgs failed to converge (status=1):\n",
      "STOP: TOTAL NO. of ITERATIONS REACHED LIMIT.\n",
      "\n",
      "Increase the number of iterations (max_iter) or scale the data as shown in:\n",
      "    https://scikit-learn.org/stable/modules/preprocessing.html\n",
      "Please also refer to the documentation for alternative solver options:\n",
      "    https://scikit-learn.org/stable/modules/linear_model.html#logistic-regression\n",
      "  n_iter_i = _check_optimize_result(\n"
     ]
    }
   ],
   "source": [
    "# Logistic Regression 사용해 보기\n",
    "wine_lr = LogisticRegression(random_state=2)\n",
    "wine_lr.fit(X_train, y_train)\n",
    "y_pred = wine_lr.predict(X_test)\n",
    "print(classification_report(y_test, y_pred))"
   ]
  },
  {
   "cell_type": "markdown",
   "metadata": {},
   "source": [
    "(6) 모델을 평가해 보기"
   ]
  },
  {
   "cell_type": "code",
   "execution_count": 26,
   "metadata": {},
   "outputs": [
    {
     "name": "stdout",
     "output_type": "stream",
     "text": [
      "              precision    recall  f1-score   support\n",
      "\n",
      "           0       1.00      0.89      0.94        18\n",
      "           1       0.75      1.00      0.86         9\n",
      "           2       1.00      0.89      0.94         9\n",
      "\n",
      "    accuracy                           0.92        36\n",
      "   macro avg       0.92      0.93      0.91        36\n",
      "weighted avg       0.94      0.92      0.92        36\n",
      "\n"
     ]
    }
   ],
   "source": [
    "from sklearn.metrics import classification_report\n",
    "\n",
    "print(classification_report(y_test, y_pred))"
   ]
  },
  {
   "cell_type": "markdown",
   "metadata": {},
   "source": [
    "F1-score을 평가 지표로 활용하는것은 정밀도와 재현율의 조화평균으로 저급 와인을 고급 와인으로, 고급 와인을 저급 와인으로 잘못 분류하는 것 모두 발생 가능하기에, 정밀도와 재현율을 모두 고려하기 위함 현재 지표에서는 class_1가 가장 잘못 분류되고 있음을 알 수 있다."
   ]
  },
  {
   "cell_type": "markdown",
   "metadata": {},
   "source": [
    "6-3. 프로젝트(3) load_breast_cancer : 유방암 여부를 진단해 봅시다"
   ]
  },
  {
   "cell_type": "markdown",
   "metadata": {},
   "source": [
    "(1) 필요한 모듈 import 하기"
   ]
  },
  {
   "cell_type": "code",
   "execution_count": 27,
   "metadata": {},
   "outputs": [],
   "source": [
    "from sklearn.datasets import load_breast_cancer"
   ]
  },
  {
   "cell_type": "markdown",
   "metadata": {},
   "source": [
    "(2) 데이터 준비 "
   ]
  },
  {
   "cell_type": "code",
   "execution_count": 28,
   "metadata": {},
   "outputs": [],
   "source": [
    "bc = load_breast_cancer()"
   ]
  },
  {
   "cell_type": "markdown",
   "metadata": {},
   "source": [
    "(3) 데이터 이해하기"
   ]
  },
  {
   "cell_type": "code",
   "execution_count": 29,
   "metadata": {},
   "outputs": [
    {
     "name": "stdout",
     "output_type": "stream",
     "text": [
      "['malignant' 'benign']\n"
     ]
    }
   ],
   "source": [
    "bc_data = bc.data # Feature Data 지정하기\n",
    "bc_label = bc.target # Label Data 지정하기\n",
    "\n",
    "print(bc.target_names) # Target Names 출력해 보기"
   ]
  },
  {
   "cell_type": "code",
   "execution_count": 30,
   "metadata": {},
   "outputs": [
    {
     "name": "stdout",
     "output_type": "stream",
     "text": [
      ".. _breast_cancer_dataset:\n",
      "\n",
      "Breast cancer wisconsin (diagnostic) dataset\n",
      "--------------------------------------------\n",
      "\n",
      "**Data Set Characteristics:**\n",
      "\n",
      ":Number of Instances: 569\n",
      "\n",
      ":Number of Attributes: 30 numeric, predictive attributes and the class\n",
      "\n",
      ":Attribute Information:\n",
      "    - radius (mean of distances from center to points on the perimeter)\n",
      "    - texture (standard deviation of gray-scale values)\n",
      "    - perimeter\n",
      "    - area\n",
      "    - smoothness (local variation in radius lengths)\n",
      "    - compactness (perimeter^2 / area - 1.0)\n",
      "    - concavity (severity of concave portions of the contour)\n",
      "    - concave points (number of concave portions of the contour)\n",
      "    - symmetry\n",
      "    - fractal dimension (\"coastline approximation\" - 1)\n",
      "\n",
      "    The mean, standard error, and \"worst\" or largest (mean of the three\n",
      "    worst/largest values) of these features were computed for each image,\n",
      "    resulting in 30 features.  For instance, field 0 is Mean Radius, field\n",
      "    10 is Radius SE, field 20 is Worst Radius.\n",
      "\n",
      "    - class:\n",
      "            - WDBC-Malignant\n",
      "            - WDBC-Benign\n",
      "\n",
      ":Summary Statistics:\n",
      "\n",
      "===================================== ====== ======\n",
      "                                        Min    Max\n",
      "===================================== ====== ======\n",
      "radius (mean):                        6.981  28.11\n",
      "texture (mean):                       9.71   39.28\n",
      "perimeter (mean):                     43.79  188.5\n",
      "area (mean):                          143.5  2501.0\n",
      "smoothness (mean):                    0.053  0.163\n",
      "compactness (mean):                   0.019  0.345\n",
      "concavity (mean):                     0.0    0.427\n",
      "concave points (mean):                0.0    0.201\n",
      "symmetry (mean):                      0.106  0.304\n",
      "fractal dimension (mean):             0.05   0.097\n",
      "radius (standard error):              0.112  2.873\n",
      "texture (standard error):             0.36   4.885\n",
      "perimeter (standard error):           0.757  21.98\n",
      "area (standard error):                6.802  542.2\n",
      "smoothness (standard error):          0.002  0.031\n",
      "compactness (standard error):         0.002  0.135\n",
      "concavity (standard error):           0.0    0.396\n",
      "concave points (standard error):      0.0    0.053\n",
      "symmetry (standard error):            0.008  0.079\n",
      "fractal dimension (standard error):   0.001  0.03\n",
      "radius (worst):                       7.93   36.04\n",
      "texture (worst):                      12.02  49.54\n",
      "perimeter (worst):                    50.41  251.2\n",
      "area (worst):                         185.2  4254.0\n",
      "smoothness (worst):                   0.071  0.223\n",
      "compactness (worst):                  0.027  1.058\n",
      "concavity (worst):                    0.0    1.252\n",
      "concave points (worst):               0.0    0.291\n",
      "symmetry (worst):                     0.156  0.664\n",
      "fractal dimension (worst):            0.055  0.208\n",
      "===================================== ====== ======\n",
      "\n",
      ":Missing Attribute Values: None\n",
      "\n",
      ":Class Distribution: 212 - Malignant, 357 - Benign\n",
      "\n",
      ":Creator:  Dr. William H. Wolberg, W. Nick Street, Olvi L. Mangasarian\n",
      "\n",
      ":Donor: Nick Street\n",
      "\n",
      ":Date: November, 1995\n",
      "\n",
      "This is a copy of UCI ML Breast Cancer Wisconsin (Diagnostic) datasets.\n",
      "https://goo.gl/U2Uwz2\n",
      "\n",
      "Features are computed from a digitized image of a fine needle\n",
      "aspirate (FNA) of a breast mass.  They describe\n",
      "characteristics of the cell nuclei present in the image.\n",
      "\n",
      "Separating plane described above was obtained using\n",
      "Multisurface Method-Tree (MSM-T) [K. P. Bennett, \"Decision Tree\n",
      "Construction Via Linear Programming.\" Proceedings of the 4th\n",
      "Midwest Artificial Intelligence and Cognitive Science Society,\n",
      "pp. 97-101, 1992], a classification method which uses linear\n",
      "programming to construct a decision tree.  Relevant features\n",
      "were selected using an exhaustive search in the space of 1-4\n",
      "features and 1-3 separating planes.\n",
      "\n",
      "The actual linear program used to obtain the separating plane\n",
      "in the 3-dimensional space is that described in:\n",
      "[K. P. Bennett and O. L. Mangasarian: \"Robust Linear\n",
      "Programming Discrimination of Two Linearly Inseparable Sets\",\n",
      "Optimization Methods and Software 1, 1992, 23-34].\n",
      "\n",
      "This database is also available through the UW CS ftp server:\n",
      "\n",
      "ftp ftp.cs.wisc.edu\n",
      "cd math-prog/cpo-dataset/machine-learn/WDBC/\n",
      "\n",
      ".. dropdown:: References\n",
      "\n",
      "  - W.N. Street, W.H. Wolberg and O.L. Mangasarian. Nuclear feature extraction\n",
      "    for breast tumor diagnosis. IS&T/SPIE 1993 International Symposium on\n",
      "    Electronic Imaging: Science and Technology, volume 1905, pages 861-870,\n",
      "    San Jose, CA, 1993.\n",
      "  - O.L. Mangasarian, W.N. Street and W.H. Wolberg. Breast cancer diagnosis and\n",
      "    prognosis via linear programming. Operations Research, 43(4), pages 570-577,\n",
      "    July-August 1995.\n",
      "  - W.H. Wolberg, W.N. Street, and O.L. Mangasarian. Machine learning techniques\n",
      "    to diagnose breast cancer from fine-needle aspirates. Cancer Letters 77 (1994)\n",
      "    163-171.\n",
      "\n"
     ]
    }
   ],
   "source": [
    "print(bc.DESCR) # 데이터 Describe 해 보기"
   ]
  },
  {
   "cell_type": "markdown",
   "metadata": {},
   "source": [
    "(4) train, test 데이터 분리"
   ]
  },
  {
   "cell_type": "code",
   "execution_count": 31,
   "metadata": {},
   "outputs": [],
   "source": [
    "X_train, X_test, y_train, y_test = train_test_split(bc_data,\n",
    "                                                    bc_label,\n",
    "                                                    test_size=0.2,\n",
    "                                                    random_state=4)"
   ]
  },
  {
   "cell_type": "markdown",
   "metadata": {},
   "source": [
    "(5) 다양한 모델로 학습시켜보기"
   ]
  },
  {
   "cell_type": "code",
   "execution_count": 32,
   "metadata": {},
   "outputs": [
    {
     "name": "stdout",
     "output_type": "stream",
     "text": [
      "              precision    recall  f1-score   support\n",
      "\n",
      "           0       0.74      1.00      0.85        34\n",
      "           1       1.00      0.85      0.92        80\n",
      "\n",
      "    accuracy                           0.89       114\n",
      "   macro avg       0.87      0.93      0.88       114\n",
      "weighted avg       0.92      0.89      0.90       114\n",
      "\n"
     ]
    }
   ],
   "source": [
    "# Decision Tree 사용해 보기기\n",
    "bc_dt = DecisionTreeClassifier(random_state=4)\n",
    "bc_dt.fit(X_train, y_train)\n",
    "y_pred = bc_dt.predict(X_test)\n",
    "print(classification_report(y_test, y_pred))"
   ]
  },
  {
   "cell_type": "code",
   "execution_count": 33,
   "metadata": {},
   "outputs": [
    {
     "name": "stdout",
     "output_type": "stream",
     "text": [
      "              precision    recall  f1-score   support\n",
      "\n",
      "           0       0.79      0.97      0.87        34\n",
      "           1       0.99      0.89      0.93        80\n",
      "\n",
      "    accuracy                           0.91       114\n",
      "   macro avg       0.89      0.93      0.90       114\n",
      "weighted avg       0.93      0.91      0.91       114\n",
      "\n"
     ]
    }
   ],
   "source": [
    "# Random Forest 사용해 보기\n",
    "bc_rf = RandomForestClassifier(random_state=4)\n",
    "bc_rf.fit(X_train, y_train)\n",
    "y_pred = bc_rf.predict(X_test)\n",
    "print(classification_report(y_test, y_pred))"
   ]
  },
  {
   "cell_type": "code",
   "execution_count": 34,
   "metadata": {},
   "outputs": [
    {
     "name": "stdout",
     "output_type": "stream",
     "text": [
      "              precision    recall  f1-score   support\n",
      "\n",
      "           0       0.76      0.82      0.79        34\n",
      "           1       0.92      0.89      0.90        80\n",
      "\n",
      "    accuracy                           0.87       114\n",
      "   macro avg       0.84      0.86      0.85       114\n",
      "weighted avg       0.87      0.87      0.87       114\n",
      "\n"
     ]
    }
   ],
   "source": [
    "# SVM 사용해 보기\n",
    "bc_svm = svm.SVC(random_state=4)\n",
    "bc_svm.fit(X_train, y_train)\n",
    "y_pred = bc_svm.predict(X_test)\n",
    "print(classification_report(y_test, y_pred))"
   ]
  },
  {
   "cell_type": "code",
   "execution_count": 35,
   "metadata": {},
   "outputs": [
    {
     "name": "stdout",
     "output_type": "stream",
     "text": [
      "              precision    recall  f1-score   support\n",
      "\n",
      "           0       0.61      0.88      0.72        34\n",
      "           1       0.94      0.76      0.84        80\n",
      "\n",
      "    accuracy                           0.80       114\n",
      "   macro avg       0.78      0.82      0.78       114\n",
      "weighted avg       0.84      0.80      0.81       114\n",
      "\n"
     ]
    }
   ],
   "source": [
    "# SGD Classifier 사용해 보기\n",
    "bc_sgd = SGDClassifier(random_state=4)\n",
    "bc_sgd.fit(X_train, y_train)\n",
    "y_pred = bc_sgd.predict(X_test)\n",
    "print(classification_report(y_test, y_pred))"
   ]
  },
  {
   "cell_type": "code",
   "execution_count": 36,
   "metadata": {},
   "outputs": [
    {
     "name": "stdout",
     "output_type": "stream",
     "text": [
      "              precision    recall  f1-score   support\n",
      "\n",
      "           0       0.78      0.85      0.82        34\n",
      "           1       0.94      0.90      0.92        80\n",
      "\n",
      "    accuracy                           0.89       114\n",
      "   macro avg       0.86      0.88      0.87       114\n",
      "weighted avg       0.89      0.89      0.89       114\n",
      "\n"
     ]
    },
    {
     "name": "stderr",
     "output_type": "stream",
     "text": [
      "c:\\Users\\user\\miniconda3\\envs\\aifenv\\Lib\\site-packages\\sklearn\\linear_model\\_logistic.py:469: ConvergenceWarning: lbfgs failed to converge (status=1):\n",
      "STOP: TOTAL NO. of ITERATIONS REACHED LIMIT.\n",
      "\n",
      "Increase the number of iterations (max_iter) or scale the data as shown in:\n",
      "    https://scikit-learn.org/stable/modules/preprocessing.html\n",
      "Please also refer to the documentation for alternative solver options:\n",
      "    https://scikit-learn.org/stable/modules/linear_model.html#logistic-regression\n",
      "  n_iter_i = _check_optimize_result(\n"
     ]
    }
   ],
   "source": [
    "# Logistic Regression 사용해 보기\n",
    "bc_lr = LogisticRegression(random_state=4)\n",
    "bc_lr.fit(X_train, y_train)\n",
    "y_pred = bc_lr.predict(X_test)\n",
    "print(classification_report(y_test, y_pred))"
   ]
  },
  {
   "cell_type": "markdown",
   "metadata": {},
   "source": [
    "(6) 모델을 평가해 보기"
   ]
  },
  {
   "cell_type": "code",
   "execution_count": 37,
   "metadata": {},
   "outputs": [
    {
     "name": "stdout",
     "output_type": "stream",
     "text": [
      "0.9\n"
     ]
    }
   ],
   "source": [
    "from sklearn.metrics import recall_score\n",
    "\n",
    "print(recall_score(y_test, y_pred))"
   ]
  },
  {
   "cell_type": "markdown",
   "metadata": {},
   "source": [
    "유방암 진단을 할 때, 음성을 양성으로 진단하는 것보다 양성을 음성으로 진단하는 것이 큰 문제이기때문에 재현율을 평가하였고 0.9의 재현율을 보이니 114명의 환자 중 약 11명의 환자들이 양성을 음성으로 진단받고있음을 알 수 있다."
   ]
  }
 ],
 "metadata": {
  "kernelspec": {
   "display_name": "aifenv",
   "language": "python",
   "name": "python3"
  },
  "language_info": {
   "codemirror_mode": {
    "name": "ipython",
    "version": 3
   },
   "file_extension": ".py",
   "mimetype": "text/x-python",
   "name": "python",
   "nbconvert_exporter": "python",
   "pygments_lexer": "ipython3",
   "version": "3.11.5"
  }
 },
 "nbformat": 4,
 "nbformat_minor": 2
}
